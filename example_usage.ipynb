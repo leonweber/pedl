{
 "cells": [
  {
   "cell_type": "markdown",
   "metadata": {
    "id": "wiOIyeDSjwKR"
   },
   "source": [
    "# PEDL Example Usage"
   ]
  },
  {
   "cell_type": "markdown",
   "metadata": {
    "id": "auagkp56jk8P"
   },
   "source": [
    "\n",
    "\n",
    "---\n",
    "\n",
    "## Downloading and Install PEDL"
   ]
  },
  {
   "cell_type": "code",
   "execution_count": null,
   "metadata": {
    "id": "kZ93sQrag4bu"
   },
   "outputs": [],
   "source": [
    "#if already installedand you want to reinstall it:\n",
    "#!python -m pip uninstall pedl\n",
    "\n",
    "\n",
    "!pip install pedl"
   ]
  },
  {
   "cell_type": "markdown",
   "metadata": {
    "id": "37WCmzCfjZ-t"
   },
   "source": [
    "\n",
    "\n",
    "---\n",
    "\n",
    "## Testing Helper for all Functions"
   ]
  },
  {
   "cell_type": "code",
   "execution_count": null,
   "metadata": {
    "id": "YAEqdtSshQcC"
   },
   "outputs": [],
   "source": [
    "!pedl-extract --help\n",
    "print(\"----------------------------------------------------------------------------------------\")\n",
    "!pedl-rebuild_pubtator_index --help\n",
    "print(\"----------------------------------------------------------------------------------------\")\n",
    "!pedl-summarize --help"
   ]
  },
  {
   "cell_type": "markdown",
   "metadata": {
    "id": "4VbY3nHHr4Gy"
   },
   "source": [
    "\n",
    "\n",
    "---\n",
    "\n",
    "## Testing Protein-Protein Extraction and Summarization"
   ]
  },
  {
   "cell_type": "code",
   "execution_count": null,
   "metadata": {
    "id": "ay9TwnQEh2gh"
   },
   "outputs": [],
   "source": [
    "import pandas as pd\n",
    "from tabulate import tabulate\n",
    "\n",
    "# run extract and summarize\n",
    "!pedl-extract e1=CMTM6 e2=CD274 type=protein_protein out=./PEDL_extractions\n",
    "!pedl-summarize input=./PEDL_extractions output=./summary\n",
    "\n",
    "# print the predictions\n",
    "df = pd.read_excel('./summary.xlsx')\n",
    "print(tabulate(df, headers='keys', tablefmt='psql'))"
   ]
  },
  {
   "cell_type": "markdown",
   "metadata": {
    "id": "mKgDqdI50iVb"
   },
   "source": [
    "The output should look a bit like this: \n",
    "\n",
    "\n",
    "\n",
    "```\n",
    "+----+--------+--------------------------+--------+-------------------------------------------------------------------------------------------------------------------------------------------------------------------------------------------------------------------------------------------------------------------------------------------------------------------------------------------------------------------------+----------+-----------------+---------------+--------------+--------------+\n",
    "|    | head   | association type         | tail   | text                                                                                                                                                                                                                                                                                                                                                                    |   pubmed |   article score |   total score |   mean score |   MESH terms |\n",
    "|----+--------+--------------------------+--------+-------------------------------------------------------------------------------------------------------------------------------------------------------------------------------------------------------------------------------------------------------------------------------------------------------------------------------------------------------------------------+----------+-----------------+---------------+--------------+--------------|\n",
    "|  0 | CMTM6  | controls-expression-of   | CD274  | <e1>CMTM6</e1> maintains the expression of <e2>PD-L1</e2> and regulates anti-tumour immunity.                                                                                                                                                                                                                                                                           |  5992436 |            2.97 |         19.46 |       0.973  |          nan |\n",
    "|  1 | CMTM6  | controls-expression-of   | CD274  | <e1>CMTM6</e1> maintains the expression of <e2>PD-L1</e2> and regulates anti-tumour immunity.                                                                                                                                                                                                                                                                           |  7202520 |            2.97 |         19.46 |       0.973  |          nan |\n",
    "|  2 | CMTM6  | controls-expression-of   | CD274  | <e1>CMTM6</e1> maintains the expression of <e2>PD-L1</e2> and regulates anti-tumour immunity.                                                                                                                                                                                                                                                                           |  9951792 |            2.97 |         19.46 |       0.973  |          nan |\n",
    "|  3 | CMTM6  | controls-expression-of   | CD274  | The CKLF-like MARVEL transmembrane domain-containing protein 6 (<e1>CMTM6</e1>), which binds to the programmed death ligand 1 (PD-L1) and stabilizes the expression of <e2>PD-L1</e2> on the cell surface, has been recently discovered as a novel regulator of PD-L1 expression in cancer.                                                                             | 34783871 |            1.99 |         19.46 |       0.973  |          nan |\n",
    "|  4 | CMTM6  | controls-expression-of   | CD274  | CKLF-like MARVEL transmembrane domain containing 6 (<e1>CMTM6</e1>) was identified as a novel regulator of <e2>PD-L1</e2> expression.                                                                                                                                                                                                                                   | 33811537 |            1.84 |         19.46 |       0.973  |          nan |\n",
    "|  5 | CMTM6  | controls-state-change-of | CD274  | It was reported that <e1>CMTM6</e1> binding with PD-L1 could reduce <e2>PD-L1</e2> ubiquitination and result in longer half life of PD-L1.                                                                                                                                                                                                                              |  6804456 |            0.83 |          2.73 |       0.6825 |          nan |\n",
    "|  6 | CMTM6  | controls-state-change-of | CD274  | LTX-315 treatment mimicks immune checkpoint blockade by inhibiting ATP11B/<e1>CMTM6</e1> complex to promote <e2>PD-L1</e2> lysosome-dependent degradation in tumor cells, meanwhile generating immunogenic oncolysis by inducing immunogenic cell death with the release of different types of DAMPs, including ATP, ANXA1, and HMGB1, as well as the exposure of CALR. |  9295653 |            0.68 |          2.73 |       0.6825 |          nan |\n",
    "|  7 | CMTM6  | controls-state-change-of | CD274  | The binding of CMTM6 to plasma membrane PD-L1 and recycling endosomes, leading to inhibition of endocytosed PD-L1 degradation, subsequently enhances PD-L1 protein stability and promotes tumor immune escape, whereas H1A (PD-L1 antibody) abolishes the binding of PD-L1 to <e1>CMTM6</e1>, resulting in <e2>PD-L1</e2> degradation by lysosomes.                     |  7648632 |            0.61 |          2.73 |       0.6825 |          nan |\n",
    "|  8 | CMTM6  | controls-state-change-of | CD274  | In addition, the transmembrane proteins, CMTM4 and <e1>CMTM6</e1>, stabilize the <e2>PD-L1</e2> protein via the lysosome pathway.                                                                                                                                                                                                                                       |  6359760 |            0.61 |          2.73 |       0.6825 |          nan |\n",
    "+----+--------+--------------------------+--------+-------------------------------------------------------------------------------------------------------------------------------------------------------------------------------------------------------------------------------------------------------------------------------------------------------------------------------------------------------------------------+----------+-----------------+---------------+--------------+--------------+\n",
    "```\n",
    "\n"
   ]
  },
  {
   "cell_type": "markdown",
   "metadata": {
    "id": "QI3FncPXiGjp"
   },
   "source": [
    "\n",
    "\n",
    "---\n",
    "\n",
    "## Testing Drug-Protein Extraction and Summarization"
   ]
  },
  {
   "cell_type": "code",
   "execution_count": null,
   "metadata": {
    "id": "n2Y1fEi2nWkf"
   },
   "outputs": [],
   "source": [
    "import pandas as pd\n",
    "from tabulate import tabulate\n",
    "\n",
    "# run extract and summarize\n",
    "!pedl-extract e1=MeSH:D063325 e2=1813 type=drug_protein out=PEDL_drug_extractions use_ids=True\n",
    "!pedl-summarize input=PEDL_drug_extractions output=summary_drug\n",
    "\n",
    "# print the predictions\n",
    "df = pd.read_excel('summary_drug.xlsx')\n",
    "print(tabulate(df, headers='keys', tablefmt='psql'))"
   ]
  },
  {
   "cell_type": "markdown",
   "metadata": {
    "id": "-clHz2um_V_7"
   },
   "source": [
    "The output should look a bit like this:\n",
    "\n",
    "\n",
    "\n",
    "```\n",
    "+----+--------------+--------------------+--------+--------------------------------------------------------------------------------------------------------------------------------------------------------------------------------------------------------------+----------+-----------------+---------------+--------------+--------------+\n",
    "|    | head         | association type   | tail   | text                                                                                                                                                                                                         |   pubmed |   article score |   total score |   mean score |   MESH terms |\n",
    "|----+--------------+--------------------+--------+--------------------------------------------------------------------------------------------------------------------------------------------------------------------------------------------------------------+----------+-----------------+---------------+--------------+--------------|\n",
    "|  0 | MESH:D063325 | ANTAGONIST         | DRD2   | <e1>Tiapride</e1> is a substituted benzamide derivative with selective <e2>dopamine D2-receptor</e2> antagonist properties which appears to have preferential affinity for extrastriatal dopamine receptors. |  8241609 |            0.97 |          1.94 |         0.97 |          nan |\n",
    "|  1 | MESH:D063325 | ANTAGONIST         | DRD2   | <e1>Tiapride</e1>, an atypical neuroleptic agent, is a selective <e2>dopamine D2-receptor</e2> antagonist with little propensity for causing catalepsy and sedation.                                         |  7521826 |            0.97 |          1.94 |         0.97 |          nan |\n",
    "+----+--------------+--------------------+--------+--------------------------------------------------------------------------------------------------------------------------------------------------------------------------------------------------------------+----------+-----------------+---------------+--------------+--------------+\n",
    "\n",
    "```\n",
    "\n"
   ]
  },
  {
   "cell_type": "markdown",
   "metadata": {
    "id": "r131B89aAkhE"
   },
   "source": [
    "\n",
    "\n",
    "---\n",
    "\n",
    "\n",
    "\n",
    "## Testing Multiple Protein-Protein Extractions\n",
    "\n",
    "Use `threshold=0.97` for high-confidence extractions"
   ]
  },
  {
   "cell_type": "code",
   "execution_count": null,
   "metadata": {
    "id": "lFUP7_B-AvAp"
   },
   "outputs": [],
   "source": [
    "import pandas as pd\n",
    "from tabulate import tabulate\n",
    "\n",
    "# run extract and summarize with threshold=0.97\n",
    "!pedl-extract e1=[CMTM6,PDCD1LG2] e2=CD274 type=protein_protein out=PEDL_extractions_multi_prot\n",
    "!pedl-summarize input=PEDL_extractions_multi_prot output=summary_mulit_prot threshold=0.97\n",
    "\n",
    "# print the predictions\n",
    "df = pd.read_excel('summary_mulit_prot.xlsx')\n",
    "print(tabulate(df, headers='keys', tablefmt='psql'))"
   ]
  },
  {
   "cell_type": "markdown",
   "metadata": {
    "id": "C2OnhHRZ0oZa"
   },
   "source": [
    "\n",
    "The output should look a bit like this:\n",
    "\n",
    "```\n",
    "+----+----------+--------------------------+--------+--------------------------------------------------------------------------------------------------------------------------------------------------------------------------------------------------------------------------------------------------------------+----------+-----------------+---------------+--------------+--------------+\n",
    "|    | head     | association type         | tail   | text                                                                                                                                                                                                                                                         |   pubmed |   article score |   total score |   mean score |   MESH terms |\n",
    "|----+----------+--------------------------+--------+--------------------------------------------------------------------------------------------------------------------------------------------------------------------------------------------------------------------------------------------------------------+----------+-----------------+---------------+--------------+--------------|\n",
    "|  0 | CMTM6    | controls-expression-of   | CD274  | <e1>CMTM6</e1> maintains the expression of <e2>PD-L1</e2> and regulates anti-tumour immunity.                                                                                                                                                                |  9951792 |            1.98 |         15.92 |        0.995 |          nan |\n",
    "|  1 | CMTM6    | controls-expression-of   | CD274  | <e1>CMTM6</e1> maintains the expression of <e2>PD-L1</e2> and regulates anti-tumour immunity.                                                                                                                                                                |  8802174 |            1.98 |         15.92 |        0.995 |          nan |\n",
    "|  2 | CMTM6    | controls-expression-of   | CD274  | <e1>CMTM6</e1> promotes <e2>PD-L1</e2> expression in tumor cells in the defense against T cells.                                                                                                                                                             |  7889680 |            1    |         15.92 |        0.995 |          nan |\n",
    "|  3 | CMTM6    | controls-expression-of   | CD274  | <e1>CMTM6</e1> maintains the expression of <e2>PD-L1</e2> and regulates anti-tumour immunit                                                                                                                                                                  |  9283057 |            1    |         15.92 |        0.995 |          nan |\n",
    "|  4 | CMTM6    | controls-expression-of   | CD274  | Background : CKLF-like MARVEL transmembrane domain containing 6 (<e1>CMTM6</e1>) is the master regulator of <e2>programmed cell death-ligand 1</e2> (PD-L1).                                                                                                 | 34759159 |            1    |         15.92 |        0.995 |          nan |\n",
    "|  5 | CMTM6    | controls-transport-of    | CD274  | A chaperone protein, <e1>CKLF-like MARVEL transmembrane domain containing 6</e1> (CMTM6) that belongs to a family of eight MARVEL domain-containing proteins with previously unknown function, regulates <e2>PD-L1</e2> recycling.                           |  7395714 |            1    |          1    |        1     |          nan |\n",
    "|  6 | CMTM6    | controls-state-change-of | CD274  | A chaperone protein, <e1>CKLF-like MARVEL transmembrane domain containing 6</e1> (CMTM6) that belongs to a family of eight MARVEL domain-containing proteins with previously unknown function, regulates <e2>PD-L1</e2> recycling.                           |  7395714 |            1    |          1    |        1     |          nan |\n",
    "|  7 | PDCD1LG2 | in-complex-with          | CD274  | Its two ligands, PD-L1 and <e1>PD-L2</e1>, members of the B7 family, with <e2>PD-L1</e2> protein being upregulated on macrophages and dendritic cells in response to treatment with lipopolysaccharide and granulocyte-macrophage colony-stimulating factor. |  8675216 |            0.97 |          0.97 |        0.97  |          nan |\n",
    "+----+----------+--------------------------+--------+--------------------------------------------------------------------------------------------------------------------------------------------------------------------------------------------------------------------------------------------------------------+----------+-----------------+---------------+--------------+--------------+\n",
    "```\n",
    "\n"
   ]
  },
  {
   "cell_type": "markdown",
   "metadata": {
    "id": "AmOnQM2VbTOi"
   },
   "source": [
    "\n",
    "\n",
    "---\n",
    "\n",
    "\n",
    "\n",
    "## Testing Multiple Drug-Protein Extractions"
   ]
  },
  {
   "cell_type": "code",
   "execution_count": null,
   "metadata": {
    "id": "Vdvdvr-qbhJR"
   },
   "outputs": [],
   "source": [
    "import pandas as pd\n",
    "from tabulate import tabulate\n",
    "\n",
    "# run extract and summarize\n",
    "!pedl-extract e1=[MeSH:D000661,D008694] e2=4129 type=drug_protein out=PEDL_extractions_multi_drug use_ids=true\n",
    "!pedl-summarize input=PEDL_extractions_multi_drug output=summary_multi_drug\n",
    "\n",
    "# print the predictions\n",
    "df = pd.read_excel('summary_multi_drug.xlsx')\n",
    "print(tabulate(df, headers='keys', tablefmt='psql'))"
   ]
  }
 ],
 "metadata": {
  "colab": {
   "provenance": []
  },
  "kernelspec": {
   "display_name": "Python 3 (ipykernel)",
   "language": "python",
   "name": "python3"
  },
  "language_info": {
   "codemirror_mode": {
    "name": "ipython",
    "version": 3
   },
   "file_extension": ".py",
   "mimetype": "text/x-python",
   "name": "python",
   "nbconvert_exporter": "python",
   "pygments_lexer": "ipython3",
   "version": "3.10.8"
  }
 },
 "nbformat": 4,
 "nbformat_minor": 1
}
